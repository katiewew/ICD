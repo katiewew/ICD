{
 "cells": [
  {
   "cell_type": "markdown",
   "metadata": {},
   "source": [
    "# Obtenção dos dados do scopus através do uso de uma API\n"
   ]
  },
  {
   "cell_type": "markdown",
   "metadata": {},
   "source": [
    "## Caminhos dos dados "
   ]
  },
  {
   "cell_type": "code",
   "execution_count": 1,
   "metadata": {},
   "outputs": [],
   "source": [
    "#Colocar os path correto\n",
    "\n",
    "path = r\"C:\\Users\\Catarina\\Documents\\GitHub\\ICD\"\n",
    "\n",
    "path_dados = r\"C:\\Users\\Catarina\\Documents\\GitHub\\ICD\""
   ]
  },
  {
   "cell_type": "markdown",
   "metadata": {},
   "source": [
    "## Módulos de interesse"
   ]
  },
  {
   "cell_type": "code",
   "execution_count": 2,
   "metadata": {},
   "outputs": [],
   "source": [
    "import requests\n",
    "import json\n",
    "\n",
    "import pickle\n",
    "\n",
    "import math \n",
    "import pandas as pd"
   ]
  },
  {
   "cell_type": "markdown",
   "metadata": {},
   "source": [
    "## Funções auxiliares"
   ]
  },
  {
   "cell_type": "code",
   "execution_count": 3,
   "metadata": {},
   "outputs": [],
   "source": [
    "# A função \"jprint()\" tem como objetivo \"imprimir\" o json (formato de resposta escolhido / solicitado à API) \n",
    "# O formato \".json\" é uma linguagem utilizada para representação de dados num formato do tipo \"chave-valor\" - numa estrutura de dados similar a um \"dicionário\", \n",
    "# disponibilizada na linguagem Python. \n",
    "# Os dados, tal como numa base de dados usual, podem ter uma estrutura relacional; é usual que estas relações possam ser representadas num formato\n",
    "# hierárquico. O formato json é assim compatível com esta representação relacional hierárquica, sendo a navegação entre os diferentes níveis definida pelas chaves, \n",
    "# que correspondem aos nós da representação hierárquica em rede dos referidos dados codificados no formato json\n",
    "# Esta função permite representar a estrutura hierárquica do json, através da \"impressão\" em formato textual, utilizando tabulações por forma a alinhar as chaves que se encontram\n",
    "# em cada nível hierárquico\n",
    "\n",
    "def jprint(obj):\n",
    "    # create a formatted string of the Python JSON object\n",
    "    text = json.dumps(obj, sort_keys=True, indent=6)\n",
    "    print(text)\n",
    "\n"
   ]
  },
  {
   "cell_type": "markdown",
   "metadata": {},
   "source": [
    "## Configuração Chave API"
   ]
  },
  {
   "cell_type": "code",
   "execution_count": 4,
   "metadata": {},
   "outputs": [
    {
     "name": "stdout",
     "output_type": "stream",
     "text": [
      "Collecting python-decouple\n",
      "  Using cached python_decouple-3.8-py3-none-any.whl (9.9 kB)\n",
      "Installing collected packages: python-decouple\n",
      "Successfully installed python-decouple-3.8\n",
      "Note: you may need to restart the kernel to use updated packages.\n"
     ]
    }
   ],
   "source": [
    "pip install python-decouple"
   ]
  },
  {
   "cell_type": "code",
   "execution_count": 6,
   "metadata": {},
   "outputs": [
    {
     "ename": "FileNotFoundError",
     "evalue": "[Errno 2] No such file or directory: 'C:\\\\Users\\\\Catarina\\\\Documents\\\\GitHub\\\\ICD\\\\.env'",
     "output_type": "error",
     "traceback": [
      "\u001b[1;31m---------------------------------------------------------------------------\u001b[0m",
      "\u001b[1;31mFileNotFoundError\u001b[0m                         Traceback (most recent call last)",
      "Cell \u001b[1;32mIn[6], line 4\u001b[0m\n\u001b[0;32m      1\u001b[0m \u001b[38;5;28;01mfrom\u001b[39;00m \u001b[38;5;21;01mdecouple\u001b[39;00m \u001b[38;5;28;01mimport\u001b[39;00m Config, RepositoryEnv\n\u001b[0;32m      3\u001b[0m DOTENV_FILE \u001b[38;5;241m=\u001b[39m \u001b[38;5;124mr\u001b[39m\u001b[38;5;124m\"\u001b[39m\u001b[38;5;124mC:\u001b[39m\u001b[38;5;124m\\\u001b[39m\u001b[38;5;124mUsers\u001b[39m\u001b[38;5;124m\\\u001b[39m\u001b[38;5;124mCatarina\u001b[39m\u001b[38;5;124m\\\u001b[39m\u001b[38;5;124mDocuments\u001b[39m\u001b[38;5;124m\\\u001b[39m\u001b[38;5;124mGitHub\u001b[39m\u001b[38;5;124m\\\u001b[39m\u001b[38;5;124mICD\u001b[39m\u001b[38;5;124m\\\u001b[39m\u001b[38;5;124m.env\u001b[39m\u001b[38;5;124m\"\u001b[39m\n\u001b[1;32m----> 4\u001b[0m env_config \u001b[38;5;241m=\u001b[39m Config(\u001b[43mRepositoryEnv\u001b[49m\u001b[43m(\u001b[49m\u001b[43mDOTENV_FILE\u001b[49m\u001b[43m)\u001b[49m)\n\u001b[0;32m      6\u001b[0m \u001b[38;5;66;03m# use the ConfigEnv().get() method as you normally would since \u001b[39;00m\n\u001b[0;32m      7\u001b[0m \u001b[38;5;66;03m# decouple.config uses that internally. \u001b[39;00m\n\u001b[0;32m      8\u001b[0m \u001b[38;5;66;03m# i.e. config('SECRET_KEY') = env_config.get('SECRET_KEY')\u001b[39;00m\n\u001b[0;32m      9\u001b[0m MY_SCOPUS_API_KEY \u001b[38;5;241m=\u001b[39m env_config\u001b[38;5;241m.\u001b[39mget(\u001b[38;5;124m'\u001b[39m\u001b[38;5;124m066bdb7b3de4992deb102287c3232c46\u001b[39m\u001b[38;5;124m'\u001b[39m)\n",
      "File \u001b[1;32m~\\AppData\\Local\\Packages\\PythonSoftwareFoundation.Python.3.11_qbz5n2kfra8p0\\LocalCache\\local-packages\\Python311\\site-packages\\decouple.py:150\u001b[0m, in \u001b[0;36mRepositoryEnv.__init__\u001b[1;34m(self, source, encoding)\u001b[0m\n\u001b[0;32m    147\u001b[0m \u001b[38;5;28;01mdef\u001b[39;00m \u001b[38;5;21m__init__\u001b[39m(\u001b[38;5;28mself\u001b[39m, source, encoding\u001b[38;5;241m=\u001b[39mDEFAULT_ENCODING):\n\u001b[0;32m    148\u001b[0m     \u001b[38;5;28mself\u001b[39m\u001b[38;5;241m.\u001b[39mdata \u001b[38;5;241m=\u001b[39m {}\n\u001b[1;32m--> 150\u001b[0m     \u001b[38;5;28;01mwith\u001b[39;00m \u001b[38;5;28;43mopen\u001b[39;49m\u001b[43m(\u001b[49m\u001b[43msource\u001b[49m\u001b[43m,\u001b[49m\u001b[43m \u001b[49m\u001b[43mencoding\u001b[49m\u001b[38;5;241;43m=\u001b[39;49m\u001b[43mencoding\u001b[49m\u001b[43m)\u001b[49m \u001b[38;5;28;01mas\u001b[39;00m file_:\n\u001b[0;32m    151\u001b[0m         \u001b[38;5;28;01mfor\u001b[39;00m line \u001b[38;5;129;01min\u001b[39;00m file_:\n\u001b[0;32m    152\u001b[0m             line \u001b[38;5;241m=\u001b[39m line\u001b[38;5;241m.\u001b[39mstrip()\n",
      "\u001b[1;31mFileNotFoundError\u001b[0m: [Errno 2] No such file or directory: 'C:\\\\Users\\\\Catarina\\\\Documents\\\\GitHub\\\\ICD\\\\.env'"
     ]
    }
   ],
   "source": [
    "from decouple import Config, RepositoryEnv\n",
    "\n",
    "DOTENV_FILE = r\"C:\\Users\\Catarina\\Documents\\GitHub\\ICD\\.env\"\n",
    "env_config = Config(RepositoryEnv(DOTENV_FILE))\n",
    "\n",
    "# use the ConfigEnv().get() method as you normally would since \n",
    "# decouple.config uses that internally. \n",
    "# i.e. config('SECRET_KEY') = env_config.get('SECRET_KEY')\n",
    "MY_SCOPUS_API_KEY = env_config.get('066bdb7b3de4992deb102287c3232c46')\n",
    "\n",
    "print('my scopus api key is :', MY_SCOPUS_API_KEY) "
   ]
  },
  {
   "cell_type": "markdown",
   "metadata": {},
   "source": [
    "# RECOLHA DE DADOS - Parte 1\n",
    "Pesquisa e recolha de resultados com a API Scoupus API"
   ]
  },
  {
   "cell_type": "markdown",
   "metadata": {},
   "source": [
    "## Análise exploratória dos resultados de pesquisa"
   ]
  },
  {
   "cell_type": "markdown",
   "metadata": {},
   "source": [
    "### Pesquisa exploratória API"
   ]
  },
  {
   "cell_type": "code",
   "execution_count": null,
   "metadata": {},
   "outputs": [
    {
     "ename": "NameError",
     "evalue": "name 'MY_SCOPUS_API_KEY' is not defined",
     "output_type": "error",
     "traceback": [
      "\u001b[1;31m---------------------------------------------------------------------------\u001b[0m",
      "\u001b[1;31mNameError\u001b[0m                                 Traceback (most recent call last)",
      "Cell \u001b[1;32mIn[18], line 8\u001b[0m\n\u001b[0;32m      3\u001b[0m user_query \u001b[38;5;241m=\u001b[39m \u001b[38;5;124m\"\u001b[39m\u001b[38;5;124mdata mining housing automated valuation model\u001b[39m\u001b[38;5;124m\"\u001b[39m\n\u001b[0;32m      4\u001b[0m cursor \u001b[38;5;241m=\u001b[39m \u001b[38;5;124m\"\u001b[39m\u001b[38;5;124m*\u001b[39m\u001b[38;5;124m\"\u001b[39m\n\u001b[0;32m      6\u001b[0m results \u001b[38;5;241m=\u001b[39m requests\u001b[38;5;241m.\u001b[39mget(\u001b[38;5;124m\"\u001b[39m\u001b[38;5;124mhttps://api.elsevier.com/content/search/scopus\u001b[39m\u001b[38;5;124m\"\u001b[39m,\n\u001b[0;32m      7\u001b[0m                     headers\u001b[38;5;241m=\u001b[39m{\u001b[38;5;124m'\u001b[39m\u001b[38;5;124mAccept\u001b[39m\u001b[38;5;124m'\u001b[39m:\u001b[38;5;124m'\u001b[39m\u001b[38;5;124mapplication/json\u001b[39m\u001b[38;5;124m'\u001b[39m,\n\u001b[1;32m----> 8\u001b[0m                              \u001b[38;5;124m'\u001b[39m\u001b[38;5;124mX-ELS-APIKey\u001b[39m\u001b[38;5;124m'\u001b[39m: \u001b[43mMY_SCOPUS_API_KEY\u001b[49m},\n\u001b[0;32m      9\u001b[0m                          \n\u001b[0;32m     10\u001b[0m                     params\u001b[38;5;241m=\u001b[39m{    \u001b[38;5;124m'\u001b[39m\u001b[38;5;124mquery\u001b[39m\u001b[38;5;124m'\u001b[39m : user_query,\n\u001b[0;32m     11\u001b[0m                                 \u001b[38;5;66;03m#'count' : 1000,\u001b[39;00m\n\u001b[0;32m     12\u001b[0m                                 \u001b[38;5;66;03m#'start' : \"25\",\u001b[39;00m\n\u001b[0;32m     13\u001b[0m                                 \u001b[38;5;66;03m#'cursor' : '*',\u001b[39;00m\n\u001b[0;32m     14\u001b[0m                         }\n\u001b[0;32m     15\u001b[0m \n\u001b[0;32m     16\u001b[0m                         )\n\u001b[0;32m     18\u001b[0m \u001b[38;5;28mprint\u001b[39m(results\u001b[38;5;241m.\u001b[39murl)\n",
      "\u001b[1;31mNameError\u001b[0m: name 'MY_SCOPUS_API_KEY' is not defined"
     ]
    }
   ],
   "source": [
    "# IMPORTANTE: https://dev.elsevier.com/sc_search_tips.html\n",
    "\n",
    "user_query = \"data mining housing automated valuation model\"\n",
    "cursor = \"*\"\n",
    "\n",
    "results = requests.get(\"https://api.elsevier.com/content/search/scopus\",\n",
    "                    headers={'Accept':'application/json',\n",
    "                             'X-ELS-APIKey': MY_SCOPUS_API_KEY},\n",
    "                         \n",
    "                    params={    'query' : user_query,\n",
    "                                #'count' : 1000,\n",
    "                                #'start' : \"25\",\n",
    "                                #'cursor' : '*',\n",
    "                        }\n",
    "\n",
    "                        )\n",
    "\n",
    "print(results.url)\n",
    "\n"
   ]
  },
  {
   "cell_type": "markdown",
   "metadata": {},
   "source": [
    "### Identificar número total de resultados obtidos na pesquisa"
   ]
  },
  {
   "cell_type": "code",
   "execution_count": null,
   "metadata": {},
   "outputs": [
    {
     "ename": "",
     "evalue": "",
     "output_type": "error",
     "traceback": [
      "\u001b[1;31mThe kernel failed to start as the Python Environment 'myenv' is no longer available. Consider selecting another kernel or refreshing the list of Python Environments."
     ]
    }
   ],
   "source": [
    "number_of_articles_retrieved = results[\"search-results\"][\"opensearch:totalResults\"]\n",
    "number_of_articles_retrieved"
   ]
  },
  {
   "cell_type": "code",
   "execution_count": null,
   "metadata": {},
   "outputs": [
    {
     "ename": "",
     "evalue": "",
     "output_type": "error",
     "traceback": [
      "\u001b[1;31mThe kernel failed to start as the Python Environment 'myenv' is no longer available. Consider selecting another kernel or refreshing the list of Python Environments."
     ]
    }
   ],
   "source": [
    "number_of_articles_perResultPage = results[\"search-results\"][\"opensearch:itemsPerPage\"]\n",
    "number_of_articles_perResultPage"
   ]
  },
  {
   "cell_type": "markdown",
   "metadata": {},
   "source": [
    "## Implementação global - Parte 1 (DOIs)\n",
    "Recolha de resultados individuais da API, seleção de dados de interesse, criação de estrutura de dados amigável"
   ]
  },
  {
   "cell_type": "code",
   "execution_count": null,
   "metadata": {},
   "outputs": [
    {
     "ename": "",
     "evalue": "",
     "output_type": "error",
     "traceback": [
      "\u001b[1;31mThe kernel failed to start as the Python Environment 'myenv' is no longer available. Consider selecting another kernel or refreshing the list of Python Environments."
     ]
    }
   ],
   "source": [
    "user_query = \"data mining housing automated valuation model\"\n",
    "LEVEL0_FIELDS_OF_INTEREST = ['dc:title', \"prism:doi\", 'dc:creator']\n",
    "AFFILIATION_FIELDS_OF_INTEREST = ['affilname', 'affiliation-city', 'affiliation-country']\n",
    "\n",
    "df_results_list = pd.DataFrame(columns=LEVEL0_FIELDS_OF_INTEREST+AFFILIATION_FIELDS_OF_INTEREST)\n",
    "\n",
    "start = 0\n",
    "\n",
    "while start <= int(number_of_articles_retrieved):\n",
    "    \n",
    "    \n",
    "    response = requests.get(\"https://api.elsevier.com/content/search/scopus\",\n",
    "                    headers={'Accept':'application/json',\n",
    "                             'X-ELS-APIKey': MY_API_KEY},\n",
    "                         \n",
    "                    params={    'query' : user_query,\n",
    "                                'start' : start\n",
    "                                #'cursor' : cursor,\n",
    "                        }\n",
    "\n",
    "                        )\n",
    "    print(i)\n",
    "    print(response.url)\n",
    "    print(response.status_code)\n",
    "\n",
    "\n",
    "\n",
    "    if(response.status_code == 200):\n",
    "\n",
    "        results_aux = response.json()\n",
    "\n",
    "        df_level1_aux = pd.DataFrame.from_records(results_aux[\"search-results\"]['entry'] )\n",
    "        df_level1_aux = df_level1_aux[LEVEL0_FIELDS_OF_INTEREST]\n",
    "\n",
    "        if 'affiliation' in results[\"search-results\"]['entry'][0]:\n",
    "            \n",
    "            df_affil_aux = pd.json_normalize(results[\"search-results\"],['entry', 'affiliation'] )\n",
    "            df_affil_aux = df_affil_aux[AFFILIATION_FIELDS_OF_INTEREST]\n",
    "            df_all_aux = pd.merge(df_level1_aux, df_affil_aux, how='left', left_index=True, right_index=True)\n",
    "            df_results_list = df_results_list.append(df_all_aux, ignore_index=True)\n",
    "\n",
    "        else:\n",
    "\n",
    "            df_affil_aux = pd.DataFrame(np.nan, index=[0],columns=AFF_COL_NAMES)\n",
    "            df_all_aux = pd.merge(df_level1_aux, df_affil_aux, how='left', left_index=True, right_index=True)\n",
    "            df_results_list = df_results_list.append(df_all_aux, ignore_index=True)\n",
    "            \n",
    "    start = start+int(number_of_articles_perResultPage)\n",
    "\n",
    "    \n",
    "    "
   ]
  },
  {
   "cell_type": "code",
   "execution_count": null,
   "metadata": {},
   "outputs": [
    {
     "ename": "",
     "evalue": "",
     "output_type": "error",
     "traceback": [
      "\u001b[1;31mThe kernel failed to start as the Python Environment 'myenv' is no longer available. Consider selecting another kernel or refreshing the list of Python Environments."
     ]
    }
   ],
   "source": [
    "df_results_list[:300]"
   ]
  },
  {
   "cell_type": "code",
   "execution_count": null,
   "metadata": {},
   "outputs": [
    {
     "ename": "",
     "evalue": "",
     "output_type": "error",
     "traceback": [
      "\u001b[1;31mThe kernel failed to start as the Python Environment 'myenv' is no longer available. Consider selecting another kernel or refreshing the list of Python Environments."
     ]
    }
   ],
   "source": [
    "df_results_list[\"prism:doi\"]"
   ]
  },
  {
   "cell_type": "markdown",
   "metadata": {},
   "source": [
    "# RECOLHA DE DADOS - Parte 2\n"
   ]
  },
  {
   "cell_type": "markdown",
   "metadata": {},
   "source": [
    "## Recolha de resumos (dos artigos) \n",
    "\n",
    "Recolha do contéudo dos resumos dos artigos selecionados com a API Scopus (usando o identificador DOI guardado anteriormente)\n",
    "\n",
    "NOTA: Como facilmente se verifica na [página](https://dev.elsevier.com/api_docs.html) os resumos podem ser obtidos de duas formas:\n",
    "* Através do serviço «ScienceDirect APIs» e especificamente da API «Article Retrieval» (documentação [aqui](https://dev.elsevier.com/documentation/ArticleRetrievalAPI.wadl) ) descrita anteriormente\n",
    "* Através do serviço «Scopus APIs» (usado anteriormente para fazer a pesquisa) e especificamente da API «Abstract Retrieval» (documentação [aqui](https://dev.elsevier.com/documentation/AbstractRetrievalAPI.wadl))"
   ]
  },
  {
   "cell_type": "markdown",
   "metadata": {},
   "source": [
    "## Implementação Global - Parte 2"
   ]
  },
  {
   "cell_type": "code",
   "execution_count": null,
   "metadata": {},
   "outputs": [
    {
     "ename": "",
     "evalue": "",
     "output_type": "error",
     "traceback": [
      "\u001b[1;31mThe kernel failed to start as the Python Environment 'myenv' is no longer available. Consider selecting another kernel or refreshing the list of Python Environments."
     ]
    }
   ],
   "source": [
    "dois = df_results_list['prism:doi']\n",
    "dois"
   ]
  },
  {
   "cell_type": "code",
   "execution_count": null,
   "metadata": {},
   "outputs": [
    {
     "ename": "",
     "evalue": "",
     "output_type": "error",
     "traceback": [
      "\u001b[1;31mThe kernel failed to start as the Python Environment 'myenv' is no longer available. Consider selecting another kernel or refreshing the list of Python Environments."
     ]
    }
   ],
   "source": [
    "abstract_list = []\n",
    "\n",
    "i=0\n",
    "for x in dois :\n",
    "    print(x)\n",
    "    response_abst = requests.get(\"https://api.elsevier.com/content/abstract/doi/\"+str(x),\n",
    "                    headers={\n",
    "                    'Accept': 'application/json',\n",
    "                    'X-ELS-APIKey': MY_API_KEY},\n",
    "                    \n",
    "                    params={   }\n",
    "                )\n",
    "    \n",
    "    print(response_abst.url)\n",
    "    print(response_abst.status_code)\n",
    "    print(i)\n",
    "    i=i+1\n",
    "\n",
    "    if(response_abst.status_code == 200):\n",
    "        results_abst = response_abst.json()\n",
    "        if 'dc:description' in results_abst[\"abstracts-retrieval-response\"][ \"coredata\"]:\n",
    "            abstract_list.append( results_abst[\"abstracts-retrieval-response\"][ \"coredata\"]['dc:description'] )\n",
    "        else:\n",
    "            abstract_list.append(\"NULL\")\n",
    "    else:\n",
    "        abstract_list.append(\"NULL\")\n",
    "\n",
    "\n"
   ]
  },
  {
   "cell_type": "code",
   "execution_count": null,
   "metadata": {},
   "outputs": [
    {
     "ename": "",
     "evalue": "",
     "output_type": "error",
     "traceback": [
      "\u001b[1;31mThe kernel failed to start as the Python Environment 'myenv' is no longer available. Consider selecting another kernel or refreshing the list of Python Environments."
     ]
    }
   ],
   "source": [
    "abstract_list[0]"
   ]
  },
  {
   "cell_type": "code",
   "execution_count": null,
   "metadata": {},
   "outputs": [
    {
     "ename": "",
     "evalue": "",
     "output_type": "error",
     "traceback": [
      "\u001b[1;31mThe kernel failed to start as the Python Environment 'myenv' is no longer available. Consider selecting another kernel or refreshing the list of Python Environments."
     ]
    }
   ],
   "source": [
    "type(abstract_list[0])"
   ]
  },
  {
   "cell_type": "markdown",
   "metadata": {},
   "source": [
    "# GUARDAR DADOS RECOLHIDOS E PROCESSADOS"
   ]
  },
  {
   "cell_type": "code",
   "execution_count": null,
   "metadata": {},
   "outputs": [
    {
     "ename": "",
     "evalue": "",
     "output_type": "error",
     "traceback": [
      "\u001b[1;31mThe kernel failed to start as the Python Environment 'myenv' is no longer available. Consider selecting another kernel or refreshing the list of Python Environments."
     ]
    }
   ],
   "source": [
    "df_results_list.to_csv(path_dados+'search_results.csv',  index=False, encoding = \"utf-8\")\n",
    "\n",
    "pd.DataFrame(abstract_list,  columns =['Abstract']).to_csv(path_dados+'search_results_abstracts.csv', index=False, encoding = \"utf-8\")"
   ]
  },
  {
   "cell_type": "code",
   "execution_count": null,
   "metadata": {},
   "outputs": [
    {
     "ename": "",
     "evalue": "",
     "output_type": "error",
     "traceback": [
      "\u001b[1;31mThe kernel failed to start as the Python Environment 'myenv' is no longer available. Consider selecting another kernel or refreshing the list of Python Environments."
     ]
    }
   ],
   "source": [
    "# Save the file\n",
    "#pickle.dump( df_results_list, file = open(path_dados+\"ICD2122_TextMining_DataStructures.pickle\", \"wb\"))\n",
    "\n",
    "# Reload the file\n",
    "#test_grouped_df_reloaded = pickle.load(open(path_dados+\"ICD2122_TextMining_DataStructures.pickle\", \"rb\"))"
   ]
  }
 ],
 "metadata": {
  "kernelspec": {
   "display_name": "Python 3.9.7 ('test_ICD2')",
   "language": "python",
   "name": "python3"
  },
  "language_info": {
   "codemirror_mode": {
    "name": "ipython",
    "version": 3
   },
   "file_extension": ".py",
   "mimetype": "text/x-python",
   "name": "python",
   "nbconvert_exporter": "python",
   "pygments_lexer": "ipython3",
   "version": "3.11.7"
  },
  "vscode": {
   "interpreter": {
    "hash": "76a7571d2f898a7f156d8b5f94d6b6fbac72889bc107cc77627496b9c8148404"
   }
  }
 },
 "nbformat": 4,
 "nbformat_minor": 4
}
